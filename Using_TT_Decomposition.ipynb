{
 "cells": [
  {
   "cell_type": "markdown",
   "metadata": {},
   "source": [
    "The notebook contains simple examples to get started with TT decomposition using tensorly (http://tensorly.org/stable/index.html) and ttpy (https://github.com/oseledets/ttpy)\n",
    "\n",
    "Author: Suhan Shetty (suhan.n.shetty@gmail.com | suhan.shetty@idiap.ch)"
   ]
  },
  {
   "cell_type": "code",
   "execution_count": 7,
   "metadata": {},
   "outputs": [],
   "source": [
    "import numpy as np"
   ]
  },
  {
   "cell_type": "code",
   "execution_count": 8,
   "metadata": {},
   "outputs": [],
   "source": [
    "# Define the input tensor\n",
    "\n",
    "# Discretie the domain of the function and \n",
    "K = 50 # each axis ([0,1]) is discretized at K points\n",
    "d = 3\n",
    "\n",
    "# Define a d-dimensional function with domain: [0,1]^d\n",
    "def f_c(x):\n",
    "    return np.exp(-np.linalg.norm(x))   \n",
    "\n",
    "def f(I):\n",
    "    I = I.reshape(-1,d)\n",
    "    x = I/K\n",
    "    return f_c(x)\n",
    "# Note: In general f could be any function that returns the value of d-dimensional array given an index I \n",
    "\n",
    "F = np.empty([K]*d)\n",
    "for i in range(K):\n",
    "    for j in range(K):\n",
    "        for k in range(K):\n",
    "            F[i,j,k] = f(np.array([i,j,k]))\n",
    "\n"
   ]
  },
  {
   "cell_type": "markdown",
   "metadata": {},
   "source": [
    "## Using Tensorly"
   ]
  },
  {
   "cell_type": "code",
   "execution_count": 9,
   "metadata": {},
   "outputs": [],
   "source": [
    "import tensorly\n",
    "from tensorly.decomposition import tensor_train as TT"
   ]
  },
  {
   "cell_type": "code",
   "execution_count": 10,
   "metadata": {},
   "outputs": [
    {
     "name": "stdout",
     "output_type": "stream",
     "text": [
      "Error:  0.018017938381372296\n",
      "Number of elements in the original array:  125000\n",
      "Number of elements in tt format:  1750\n"
     ]
    }
   ],
   "source": [
    "# Find the decomposition of tensor F\n",
    "ttF = TT(F,rank=[1,5,5,1])# increase rank for better approximation rank. Note: rank[0]=1 and rank[-1]=1\n",
    "factors = ttF.factors # list of tt cores\n",
    "F_apprx = ttF.to_tensor() #re-contruct the full d-dimenisonal tensor from it tt-decomposition\n",
    "print(\"Error: \",np.linalg.norm(F-F_apprx))\n",
    "print(\"Number of elements in the original array: \", K**d)\n",
    "print(\"Number of elements in tt format: \", np.sum([ttF.rank[i]*ttF.rank[i+1]*K for i in range(d)]))"
   ]
  },
  {
   "cell_type": "markdown",
   "metadata": {},
   "source": [
    "## Using ttpy"
   ]
  },
  {
   "cell_type": "code",
   "execution_count": 11,
   "metadata": {},
   "outputs": [],
   "source": [
    "# !pip install ttpy\n",
    "import tt\n",
    "from tt.cross import rect_cross as tt_cross"
   ]
  },
  {
   "cell_type": "code",
   "execution_count": 12,
   "metadata": {},
   "outputs": [
    {
     "name": "stdout",
     "output_type": "stream",
     "text": [
      "Error:  0.053601566915513335\n",
      "Number of elements in the original array:  125000\n",
      "Number of elements in tt format:  1200\n"
     ]
    }
   ],
   "source": [
    "# Given a full d-dimensional arry F, compute its tt-decomposition using tt-svd algorithm\n",
    "ttF = tt.core.vector.tensor(F, eps=1e-3) # Find the decomposition\n",
    "F_apprx = ttF.full() #re-contruct the full d-dimenisonal tensor from it tt-decomposition\n",
    "print(\"Error: \",np.linalg.norm(F-F_apprx))\n",
    "factors = tt.vector.to_list(ttF) #list of all the tt cores\n",
    "\n",
    "print(\"Number of elements in the original array: \", K**d)\n",
    "print(\"Number of elements in tt format: \", np.sum([ttF.r[i]*ttF.r[i+1]*K for i in range(d)]))"
   ]
  },
  {
   "cell_type": "code",
   "execution_count": null,
   "metadata": {},
   "outputs": [],
   "source": []
  },
  {
   "cell_type": "code",
   "execution_count": null,
   "metadata": {},
   "outputs": [],
   "source": []
  }
 ],
 "metadata": {
  "kernelspec": {
   "display_name": "Python 3",
   "language": "python",
   "name": "python3"
  },
  "language_info": {
   "codemirror_mode": {
    "name": "ipython",
    "version": 3
   },
   "file_extension": ".py",
   "mimetype": "text/x-python",
   "name": "python",
   "nbconvert_exporter": "python",
   "pygments_lexer": "ipython3",
   "version": "3.8.5"
  }
 },
 "nbformat": 4,
 "nbformat_minor": 4
}
