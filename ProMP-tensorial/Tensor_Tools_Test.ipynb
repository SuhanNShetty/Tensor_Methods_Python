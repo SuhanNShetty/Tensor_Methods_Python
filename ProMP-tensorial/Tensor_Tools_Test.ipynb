{
 "cells": [
  {
   "cell_type": "markdown",
   "metadata": {},
   "source": [
    "This is a notebook for testing the \"tesnor_tools.py\" functionalities.\n",
    "Author: Suhan | suhan.n.shetty@gmail.com | Date: 10th Sept 2019"
   ]
  },
  {
   "cell_type": "code",
   "execution_count": 1,
   "metadata": {},
   "outputs": [
    {
     "name": "stdout",
     "output_type": "stream",
     "text": [
      "MLN MLE Converged in  9  iterations\n",
      "11.847607324882222\n",
      "vCov error:  43.439067298531995\n"
     ]
    }
   ],
   "source": [
    "import numpy as np\n",
    "from numpy.linalg import multi_dot as mat_mul\n",
    "from numpy.random import random_sample \n",
    "\n",
    "from tensor_tools import array3\n",
    "\n",
    "# Specify the tensor\n",
    "ar3 = array3()\n",
    "np_shape = [5,3,2]\n",
    "tensor_shape = [3,2,5] # [mode_1, mode_2 mode_3]: [rows, columns, tubes]\n",
    "\n",
    "# Test convergence of array normal\n",
    "\n",
    "# Choose covariance matrices\n",
    "A = [np.random.randn(tensor_shape[k],tensor_shape[k]) for k in range(3)]\n",
    "Cov = [mat_mul([A[k],A[k].T]) for k in range(3)]\n",
    "\n",
    "\n",
    "M = 10+0.00001*np.random.randn(*np_shape)\n",
    "# Generate data\n",
    "tensor_data = [ar3.anormal_sampling(M,Cov) for k in range(10)]\n",
    "\n",
    "# Fit array-normal model\n",
    "(M_,Cov_,A_) = ar3.anormal(tensor_data, coef=0, constraint=False)\n",
    "vCov_ = ar3.kron(Cov_)\n",
    "vCov = ar3.kron(Cov)\n",
    "# print(\"Actual\")\n",
    "# print(M)\n",
    "# print([Cov[j] for j in range(3)])\n",
    "\n",
    "# print(\"Estimation: \")\n",
    "# print(M_)\n",
    "\n",
    "error_M = np.linalg.norm(M-M_)\n",
    "\n",
    "#error_cov = [np.linalg.norm(Cov[j]-Cov_[j]) for j in range(3)]\n",
    "print(error_M)\n",
    "\n",
    "#rint(error_cov)\n",
    "\n",
    "print(\"vCov error: \", np.linalg.norm(vCov-vCov_))"
   ]
  },
  {
   "cell_type": "code",
   "execution_count": 2,
   "metadata": {},
   "outputs": [
    {
     "name": "stdout",
     "output_type": "stream",
     "text": [
      "The algorithm has converged. Number of iterations in ALS:  2599\n",
      "Norm of the Residual:  1.9065509318246339\n",
      "Norm of the Data:  11.888239793017116\n",
      "Number of Parameters in the model:  50\n",
      "Number of elements in the data:  30\n"
     ]
    }
   ],
   "source": [
    "# PARAFAC/CP\n",
    "\n",
    "# Data\n",
    "X = ar3.random_array3(tensor_shape)\n",
    "\n",
    "R = 5 #Number of rank-1 components in the CP\n",
    "\n",
    "#(A,G) = ar3.cp(X,R) #CP decompostion A = [[a1,a2,..,aR], [b1,b2,...,bR],[c1,c2,...,cR]]\n",
    "A = ar3.cp(X,R)\n",
    "\n",
    "# D_ = [np.diag(G[i].flat) for i in range(3)]\n",
    "# D = mat_mul([D_[0],D_[1],D_[2]])#np.identity(R)#\n",
    "\n",
    "X_apprx1 = mat_mul([A[0],(ar3.khatri_rao([A[2],A[1]])).T])\n",
    "\n",
    "Error1 = ar3.unfold(X,1) - X_apprx1\n",
    "\n",
    "print(\"Norm of the Residual: \", np.linalg.norm(Error1))\n",
    "\n",
    "print(\"Norm of the Data: \", np.linalg.norm(X))\n",
    "p = 0\n",
    "q = X.shape[0]*X.shape[1]*X.shape[2]\n",
    "for A_ in A:\n",
    "    p = p + A_.shape[0]*A_.shape[1]\n",
    "\n",
    "print(\"Number of Parameters in the model: \", p)\n",
    "print(\"Number of elements in the data: \", q)\n",
    "\n"
   ]
  },
  {
   "cell_type": "code",
   "execution_count": 3,
   "metadata": {},
   "outputs": [
    {
     "name": "stdout",
     "output_type": "stream",
     "text": [
      "The algorithm has converged. Number of iterations:  9\n",
      "Norm of the residual:  0.7442679746604879\n",
      "Norm of the tensor X:  11.212346467160325\n",
      "Number of elements in X:  30\n",
      "Number of Parameters:  46\n"
     ]
    }
   ],
   "source": [
    "# Tucker3 Decomposition \n",
    "\n",
    "# Data\n",
    "X = ar3.random_array3(tensor_shape)\n",
    "rank_ = [3,3,3]\n",
    "\n",
    "# Fit Tucker model\n",
    "(A,G) = ar3.tucker3(X,rank_)\n",
    "X_ = ar3.tucker_product(G,A,[1,2,3])\n",
    "\n",
    "# Residual Analysis\n",
    "print(\"Norm of the residual: \", np.linalg.norm(X-X_))\n",
    "print(\"Norm of the tensor X: \",np.linalg.norm(X))\n",
    "\n",
    "p = 0\n",
    "for A_ in A:\n",
    "    p = p + A_.shape[0]*A_.shape[1]\n",
    "p = p + G.shape[0]*G.shape[1]*G.shape[2]\n",
    "print(\"Number of elements in X: \",X.shape[0]*X.shape[1]*X.shape[2])\n",
    "print(\"Number of Parameters: \", p)"
   ]
  },
  {
   "cell_type": "code",
   "execution_count": 4,
   "metadata": {},
   "outputs": [
    {
     "name": "stdout",
     "output_type": "stream",
     "text": [
      "MLN MLE Converged in  9  iterations\n",
      "update_cov:  0.6181128382298201\n",
      "X_a-Ma: 2.3019856832340593\n",
      "Cov:  [[0.29387657 0.14382146 0.16111365]\n",
      " [0.14382146 0.29909866 0.15627299]\n",
      " [0.16111365 0.15627299 0.34514097]] \n",
      " [[0.99478114 0.25622962]\n",
      " [0.25622962 0.97385289]]\n",
      "update_M: 1.2060085911494907\n"
     ]
    }
   ],
   "source": [
    "# Array-Normal Distribution Test\n",
    "\n",
    "# Generate Data\n",
    "X = [ar3.random_array3(tensor_shape) for k in range(10)]\n",
    "# Or use: X = [np.random.randn(*tensor_shape) for k in range(10)]\n",
    "\n",
    "# Fit array-normal model\n",
    "(M,Cov,A) = ar3.anormal(X)\n",
    "\n",
    "# Sampling from the array-normal distribution \n",
    "Xs = ar3.anormal_sampling(M,Cov)\n",
    "\n",
    "# Array-normal Conditioning\n",
    "Xt = X[0]\n",
    "slice_ = 3\n",
    "Ia = [0,1]\n",
    "X_a = Xt[Ia,:,:]\n",
    "M_,Cov_ = ar3.anormal_condition(M,Cov,Ia,X_a, slice_)\n"
   ]
  },
  {
   "cell_type": "code",
   "execution_count": 5,
   "metadata": {},
   "outputs": [
    {
     "name": "stdout",
     "output_type": "stream",
     "text": [
      "For alpha {0.3} :\n",
      "The algorithm has converged. Number of iterations:  499\n",
      "Error in input data fit:  2.1660193427749523e-12 and norm of the input data:  15.5445117174261\n",
      "Expected error in regression:  0.7138741839566426\n",
      "Expected norm of Y:  13.938008281882768\n",
      "For alpha {0.6} :\n"
     ]
    },
    {
     "ename": "KeyboardInterrupt",
     "evalue": "",
     "output_type": "error",
     "traceback": [
      "\u001b[0;31m---------------------------------------------------------------------------\u001b[0m",
      "\u001b[0;31mKeyboardInterrupt\u001b[0m                         Traceback (most recent call last)",
      "\u001b[0;32m<ipython-input-5-f7f337dc1c2d>\u001b[0m in \u001b[0;36m<module>\u001b[0;34m\u001b[0m\n\u001b[1;32m     14\u001b[0m     \u001b[0mR_X\u001b[0m\u001b[0;34m=\u001b[0m\u001b[0;34m[\u001b[0m\u001b[0;36m3\u001b[0m\u001b[0;34m,\u001b[0m\u001b[0;36m3\u001b[0m\u001b[0;34m,\u001b[0m\u001b[0;36m5\u001b[0m\u001b[0;34m]\u001b[0m\u001b[0;34m\u001b[0m\u001b[0;34m\u001b[0m\u001b[0m\n\u001b[1;32m     15\u001b[0m     \u001b[0mR_Y\u001b[0m \u001b[0;34m=\u001b[0m \u001b[0mR_X\u001b[0m\u001b[0;34m\u001b[0m\u001b[0;34m\u001b[0m\u001b[0m\n\u001b[0;32m---> 16\u001b[0;31m     \u001b[0;34m(\u001b[0m\u001b[0mAx\u001b[0m\u001b[0;34m,\u001b[0m\u001b[0mGx\u001b[0m\u001b[0;34m,\u001b[0m\u001b[0mAy\u001b[0m\u001b[0;34m,\u001b[0m\u001b[0mGy\u001b[0m\u001b[0;34m,\u001b[0m\u001b[0mW\u001b[0m\u001b[0;34m,\u001b[0m\u001b[0mPy\u001b[0m\u001b[0;34m)\u001b[0m\u001b[0;34m=\u001b[0m\u001b[0mar3\u001b[0m\u001b[0;34m.\u001b[0m\u001b[0mcov_regression\u001b[0m\u001b[0;34m(\u001b[0m\u001b[0mX\u001b[0m\u001b[0;34m,\u001b[0m\u001b[0mY\u001b[0m\u001b[0;34m,\u001b[0m \u001b[0malpha\u001b[0m\u001b[0;34m,\u001b[0m \u001b[0mR_X\u001b[0m\u001b[0;34m,\u001b[0m \u001b[0mR_Y\u001b[0m\u001b[0;34m)\u001b[0m\u001b[0;34m\u001b[0m\u001b[0;34m\u001b[0m\u001b[0m\n\u001b[0m\u001b[1;32m     17\u001b[0m     \u001b[0my_mag\u001b[0m \u001b[0;34m=\u001b[0m \u001b[0;36m0\u001b[0m\u001b[0;34m\u001b[0m\u001b[0;34m\u001b[0m\u001b[0m\n\u001b[1;32m     18\u001b[0m     \u001b[0merr\u001b[0m \u001b[0;34m=\u001b[0m \u001b[0;36m0\u001b[0m\u001b[0;34m\u001b[0m\u001b[0;34m\u001b[0m\u001b[0m\n",
      "\u001b[0;32m/remote/idiap.svm/home.active/sshetty/Softwares/tensor_methods_python/tensor_tools.py\u001b[0m in \u001b[0;36mcov_regression\u001b[0;34m(self, X_Data, Y_Data, alpha, R_X, R_Y)\u001b[0m\n\u001b[1;32m    305\u001b[0m         \u001b[0;32mfor\u001b[0m \u001b[0mreps\u001b[0m \u001b[0;32min\u001b[0m \u001b[0mrange\u001b[0m\u001b[0;34m(\u001b[0m\u001b[0;36m1000\u001b[0m\u001b[0;34m)\u001b[0m\u001b[0;34m:\u001b[0m\u001b[0;34m\u001b[0m\u001b[0;34m\u001b[0m\u001b[0m\n\u001b[1;32m    306\u001b[0m             \u001b[0;34m(\u001b[0m\u001b[0mAx\u001b[0m\u001b[0;34m,\u001b[0m\u001b[0mGx_\u001b[0m\u001b[0;34m)\u001b[0m\u001b[0;34m=\u001b[0m \u001b[0mself\u001b[0m\u001b[0;34m.\u001b[0m\u001b[0mpartial_tucker3\u001b[0m\u001b[0;34m(\u001b[0m\u001b[0mX_Data\u001b[0m\u001b[0;34m,\u001b[0m\u001b[0mR_X\u001b[0m\u001b[0;34m,\u001b[0m \u001b[0mC\u001b[0m\u001b[0;34m,\u001b[0m \u001b[0mmode\u001b[0m\u001b[0;34m=\u001b[0m\u001b[0;36m3\u001b[0m\u001b[0;34m)\u001b[0m\u001b[0;34m\u001b[0m\u001b[0;34m\u001b[0m\u001b[0m\n\u001b[0;32m--> 307\u001b[0;31m             \u001b[0;34m(\u001b[0m\u001b[0mAy\u001b[0m\u001b[0;34m,\u001b[0m\u001b[0mGy_\u001b[0m\u001b[0;34m)\u001b[0m\u001b[0;34m=\u001b[0m \u001b[0mself\u001b[0m\u001b[0;34m.\u001b[0m\u001b[0mpartial_tucker3\u001b[0m\u001b[0;34m(\u001b[0m\u001b[0mY_Data\u001b[0m\u001b[0;34m,\u001b[0m\u001b[0mR_Y\u001b[0m\u001b[0;34m,\u001b[0m \u001b[0mC\u001b[0m\u001b[0;34m,\u001b[0m \u001b[0mmode\u001b[0m\u001b[0;34m=\u001b[0m\u001b[0;36m3\u001b[0m\u001b[0;34m)\u001b[0m\u001b[0;34m\u001b[0m\u001b[0;34m\u001b[0m\u001b[0m\n\u001b[0m\u001b[1;32m    308\u001b[0m             \u001b[0mGx\u001b[0m \u001b[0;34m=\u001b[0m \u001b[0mself\u001b[0m\u001b[0;34m.\u001b[0m\u001b[0munfold\u001b[0m\u001b[0;34m(\u001b[0m\u001b[0mGx_\u001b[0m\u001b[0;34m,\u001b[0m\u001b[0;36m3\u001b[0m\u001b[0;34m)\u001b[0m\u001b[0;34m\u001b[0m\u001b[0;34m\u001b[0m\u001b[0m\n\u001b[1;32m    309\u001b[0m             \u001b[0mGy\u001b[0m \u001b[0;34m=\u001b[0m \u001b[0mself\u001b[0m\u001b[0;34m.\u001b[0m\u001b[0munfold\u001b[0m\u001b[0;34m(\u001b[0m\u001b[0mGy_\u001b[0m\u001b[0;34m,\u001b[0m\u001b[0;36m3\u001b[0m\u001b[0;34m)\u001b[0m\u001b[0;34m\u001b[0m\u001b[0;34m\u001b[0m\u001b[0m\n",
      "\u001b[0;32m/remote/idiap.svm/home.active/sshetty/Softwares/tensor_methods_python/tensor_tools.py\u001b[0m in \u001b[0;36mpartial_tucker3\u001b[0;34m(self, X, R, A_, mode)\u001b[0m\n\u001b[1;32m    274\u001b[0m                     \u001b[0midx\u001b[0m \u001b[0;34m=\u001b[0m \u001b[0;34m[\u001b[0m\u001b[0;36m0\u001b[0m\u001b[0;34m,\u001b[0m\u001b[0;36m1\u001b[0m\u001b[0;34m,\u001b[0m\u001b[0;36m2\u001b[0m\u001b[0;34m]\u001b[0m\u001b[0;34m\u001b[0m\u001b[0;34m\u001b[0m\u001b[0m\n\u001b[1;32m    275\u001b[0m                     \u001b[0midx\u001b[0m\u001b[0;34m.\u001b[0m\u001b[0mremove\u001b[0m\u001b[0;34m(\u001b[0m\u001b[0mk\u001b[0m\u001b[0;34m)\u001b[0m\u001b[0;34m\u001b[0m\u001b[0;34m\u001b[0m\u001b[0m\n\u001b[0;32m--> 276\u001b[0;31m                     \u001b[0mZ\u001b[0m \u001b[0;34m=\u001b[0m \u001b[0mself\u001b[0m\u001b[0;34m.\u001b[0m\u001b[0mkron\u001b[0m\u001b[0;34m(\u001b[0m\u001b[0;34m[\u001b[0m\u001b[0mA\u001b[0m\u001b[0;34m[\u001b[0m\u001b[0midx\u001b[0m\u001b[0;34m[\u001b[0m\u001b[0;36m1\u001b[0m\u001b[0;34m]\u001b[0m\u001b[0;34m]\u001b[0m\u001b[0;34m,\u001b[0m \u001b[0mA\u001b[0m\u001b[0;34m[\u001b[0m\u001b[0midx\u001b[0m\u001b[0;34m[\u001b[0m\u001b[0;36m0\u001b[0m\u001b[0;34m]\u001b[0m\u001b[0;34m]\u001b[0m\u001b[0;34m]\u001b[0m\u001b[0;34m)\u001b[0m\u001b[0;34m\u001b[0m\u001b[0;34m\u001b[0m\u001b[0m\n\u001b[0m\u001b[1;32m    277\u001b[0m                     \u001b[0mYk\u001b[0m \u001b[0;34m=\u001b[0m \u001b[0mmat_mul\u001b[0m\u001b[0;34m(\u001b[0m\u001b[0;34m[\u001b[0m\u001b[0mXn\u001b[0m\u001b[0;34m[\u001b[0m\u001b[0mk\u001b[0m\u001b[0;34m]\u001b[0m\u001b[0;34m,\u001b[0m\u001b[0mZ\u001b[0m\u001b[0;34m]\u001b[0m\u001b[0;34m)\u001b[0m\u001b[0;34m\u001b[0m\u001b[0;34m\u001b[0m\u001b[0m\n\u001b[1;32m    278\u001b[0m                     \u001b[0mU\u001b[0m\u001b[0;34m,\u001b[0m\u001b[0mS\u001b[0m\u001b[0;34m,\u001b[0m\u001b[0mV\u001b[0m \u001b[0;34m=\u001b[0m \u001b[0mnp\u001b[0m\u001b[0;34m.\u001b[0m\u001b[0mlinalg\u001b[0m\u001b[0;34m.\u001b[0m\u001b[0msvd\u001b[0m\u001b[0;34m(\u001b[0m\u001b[0mYk\u001b[0m\u001b[0;34m)\u001b[0m\u001b[0;34m\u001b[0m\u001b[0;34m\u001b[0m\u001b[0m\n",
      "\u001b[0;32m/remote/idiap.svm/home.active/sshetty/Softwares/tensor_methods_python/tensor_tools.py\u001b[0m in \u001b[0;36mkron\u001b[0;34m(self, A)\u001b[0m\n\u001b[1;32m     55\u001b[0m     \u001b[0;32mdef\u001b[0m \u001b[0mkron\u001b[0m\u001b[0;34m(\u001b[0m\u001b[0mself\u001b[0m\u001b[0;34m,\u001b[0m\u001b[0mA\u001b[0m\u001b[0;34m)\u001b[0m\u001b[0;34m:\u001b[0m \u001b[0;31m# Here, A=[A1,A2,A3,..,AN]\u001b[0m\u001b[0;34m\u001b[0m\u001b[0;34m\u001b[0m\u001b[0m\n\u001b[1;32m     56\u001b[0m         \u001b[0mN\u001b[0m \u001b[0;34m=\u001b[0m \u001b[0mlen\u001b[0m\u001b[0;34m(\u001b[0m\u001b[0mA\u001b[0m\u001b[0;34m)\u001b[0m\u001b[0;34m\u001b[0m\u001b[0;34m\u001b[0m\u001b[0m\n\u001b[0;32m---> 57\u001b[0;31m         \u001b[0mkp\u001b[0m \u001b[0;34m=\u001b[0m \u001b[0mnp\u001b[0m\u001b[0;34m.\u001b[0m\u001b[0mkron\u001b[0m\u001b[0;34m(\u001b[0m\u001b[0mA\u001b[0m\u001b[0;34m[\u001b[0m\u001b[0;36m0\u001b[0m\u001b[0;34m]\u001b[0m\u001b[0;34m,\u001b[0m\u001b[0mA\u001b[0m\u001b[0;34m[\u001b[0m\u001b[0;36m1\u001b[0m\u001b[0;34m]\u001b[0m\u001b[0;34m)\u001b[0m\u001b[0;34m\u001b[0m\u001b[0;34m\u001b[0m\u001b[0m\n\u001b[0m\u001b[1;32m     58\u001b[0m         \u001b[0mk\u001b[0m \u001b[0;34m=\u001b[0m \u001b[0;36m2\u001b[0m\u001b[0;34m\u001b[0m\u001b[0;34m\u001b[0m\u001b[0m\n\u001b[1;32m     59\u001b[0m         \u001b[0;32mwhile\u001b[0m \u001b[0mk\u001b[0m\u001b[0;34m<\u001b[0m\u001b[0mN\u001b[0m\u001b[0;34m:\u001b[0m\u001b[0;34m\u001b[0m\u001b[0;34m\u001b[0m\u001b[0m\n",
      "\u001b[0;32m~/anaconda3/envs/pyML/lib/python3.7/site-packages/numpy/lib/shape_base.py\u001b[0m in \u001b[0;36mkron\u001b[0;34m(a, b)\u001b[0m\n\u001b[1;32m   1138\u001b[0m     \u001b[0maxis\u001b[0m \u001b[0;34m=\u001b[0m \u001b[0mnd\u001b[0m\u001b[0;34m-\u001b[0m\u001b[0;36m1\u001b[0m\u001b[0;34m\u001b[0m\u001b[0;34m\u001b[0m\u001b[0m\n\u001b[1;32m   1139\u001b[0m     \u001b[0;32mfor\u001b[0m \u001b[0m_\u001b[0m \u001b[0;32min\u001b[0m \u001b[0mrange\u001b[0m\u001b[0;34m(\u001b[0m\u001b[0mnd\u001b[0m\u001b[0;34m)\u001b[0m\u001b[0;34m:\u001b[0m\u001b[0;34m\u001b[0m\u001b[0;34m\u001b[0m\u001b[0m\n\u001b[0;32m-> 1140\u001b[0;31m         \u001b[0mresult\u001b[0m \u001b[0;34m=\u001b[0m \u001b[0mconcatenate\u001b[0m\u001b[0;34m(\u001b[0m\u001b[0mresult\u001b[0m\u001b[0;34m,\u001b[0m \u001b[0maxis\u001b[0m\u001b[0;34m=\u001b[0m\u001b[0maxis\u001b[0m\u001b[0;34m)\u001b[0m\u001b[0;34m\u001b[0m\u001b[0;34m\u001b[0m\u001b[0m\n\u001b[0m\u001b[1;32m   1141\u001b[0m     \u001b[0mwrapper\u001b[0m \u001b[0;34m=\u001b[0m \u001b[0mget_array_prepare\u001b[0m\u001b[0;34m(\u001b[0m\u001b[0ma\u001b[0m\u001b[0;34m,\u001b[0m \u001b[0mb\u001b[0m\u001b[0;34m)\u001b[0m\u001b[0;34m\u001b[0m\u001b[0;34m\u001b[0m\u001b[0m\n\u001b[1;32m   1142\u001b[0m     \u001b[0;32mif\u001b[0m \u001b[0mwrapper\u001b[0m \u001b[0;32mis\u001b[0m \u001b[0;32mnot\u001b[0m \u001b[0;32mNone\u001b[0m\u001b[0;34m:\u001b[0m\u001b[0;34m\u001b[0m\u001b[0;34m\u001b[0m\u001b[0m\n",
      "\u001b[0;31mKeyboardInterrupt\u001b[0m: "
     ]
    }
   ],
   "source": [
    "# Tensor-Tensor Regression Test\n",
    "\n",
    "# Generate Data\n",
    "X = ar3.random_array3(tensor_shape)\n",
    "Y = X*2 + 0.1\n",
    "\n",
    "# Fit a regression model and test the fit for different alpha (hyperparameter)\n",
    "reps = 0\n",
    "alpha = 0\n",
    "while reps<3:\n",
    "    reps = reps+1\n",
    "    alpha=alpha+0.3\n",
    "    print(\"For alpha %s :\"%{alpha})\n",
    "    R_X=[3,3,5]\n",
    "    R_Y = R_X\n",
    "    (Ax,Gx,Ay,Gy,W,Py)=ar3.cov_regression(X,Y, alpha, R_X, R_Y)\n",
    "    y_mag = 0\n",
    "    err = 0\n",
    "    for k in range(tensor_shape[2]):\n",
    "        X_test = X[k,:,:]\n",
    "        a = mat_mul([W.T, X_test.flatten()])\n",
    "        Y_test = mat_mul([a,Py])\n",
    "        y_mag = y_mag + np.linalg.norm(Y_test)\n",
    "        err = err + np.linalg.norm(Y_test-Y[k,:,:].flatten())\n",
    "\n",
    "    print(\"Expected error in regression: \", err/tensor_shape[2])   \n",
    "    print(\"Expected norm of Y: \", y_mag/tensor_shape[2])  \n"
   ]
  },
  {
   "cell_type": "code",
   "execution_count": null,
   "metadata": {},
   "outputs": [],
   "source": [
    "## For the following code you need tensorly package from http://tensorly.org/ \n",
    "# import tensorly as tl\n",
    "# from tensorly.decomposition import tucker, parafac, non_negative_tucker\n",
    "# rank_ = [6,11,4]\n",
    "# (G_,A_) = tucker(X, ranks=rank_)\n",
    "# X_ = tl.tucker_to_tensor(G_,A_)\n",
    "# print(np.linalg.norm(X_-X))\n",
    "\n",
    "# A_ = parafac(X, rank=R)\n",
    "# Xa = mat_mul([A_[0],(ar3.khatri_rao([A_[1],A_[2]])).T])\n",
    "# X_ = tl.unfold(X,0)\n",
    "# print(np.linalg.norm(X_-Xa))"
   ]
  }
 ],
 "metadata": {
  "kernelspec": {
   "display_name": "Python 3",
   "language": "python",
   "name": "python3"
  },
  "language_info": {
   "codemirror_mode": {
    "name": "ipython",
    "version": 3
   },
   "file_extension": ".py",
   "mimetype": "text/x-python",
   "name": "python",
   "nbconvert_exporter": "python",
   "pygments_lexer": "ipython3",
   "version": "3.7.3"
  }
 },
 "nbformat": 4,
 "nbformat_minor": 2
}
