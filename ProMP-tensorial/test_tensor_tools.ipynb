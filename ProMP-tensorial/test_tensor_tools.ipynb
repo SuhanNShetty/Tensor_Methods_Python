{
 "cells": [
  {
   "cell_type": "code",
   "execution_count": 1,
   "metadata": {},
   "outputs": [],
   "source": [
    "from mat4py import loadmat\n",
    "import scipy.io\n",
    "import numpy as np\n",
    "import pdb\n",
    "from tensor_tools import array3\n",
    "eps = np.finfo(float).eps\n",
    "# Demonstration data\n",
    "data_path = './data/Bimanual_demos/demo_allSweep_Seg.mat'\n",
    "data = loadmat(data_path)\n",
    "demos = data[\"s\"][\"d\"]\n",
    "\n",
    "rob1_idx = [2,3,4,8,9,10,11] # robot-1 state index\n",
    "rob2_idx = [5,6,7,12,13,14,15]\n",
    "p = 7 # Number of states\n",
    "q = 2 # Number of subjects/robots\n",
    "r = 258 # Number of time steps\n",
    "\n",
    "#Import the data into tensor structure\n",
    "N = 5\n",
    "#tensor_data = [2*(j%2)+np.random.randn(r,p,q) for j in range( N)]\n",
    "tensor_data = [np.empty([r,p,q])]*5 #\n",
    "for k in range(5): # iterate over the 5 demonstrations\n",
    "    tmp  = np.empty([r,p,q])\n",
    "    for t in range(258):\n",
    "        tmp[t,:,0]=np.array([demos[k][t][idx] for idx in rob1_idx])\n",
    "        tmp[t,:,1]=np.array([demos[k][t][idx] for idx in rob2_idx]) \n",
    "        tmp_ = tmp[:,[0,1,2],:]\n",
    "    \n",
    "    tensor_data[k] = tmp_ #scale the data by 100sualization b"
   ]
  },
  {
   "cell_type": "code",
   "execution_count": 2,
   "metadata": {},
   "outputs": [
    {
     "name": "stdout",
     "output_type": "stream",
     "text": [
      "err_cov  :  78.68644450942566 err_mean:  0.06284987705337257 err_pi:  0.00014894954318617204\n",
      "err_cov  :  0.0022643447773780054 err_mean:  0.4560306756789201 err_pi:  0.06741769380835555\n",
      "err_cov  :  0.0007821128767830167 err_mean:  0.07916041217302264 err_pi:  0.13243335664845823\n",
      "err_cov  :  0.0 err_mean:  0.0 err_pi:  0.0\n",
      "EM converged in steps:  3\n"
     ]
    }
   ],
   "source": [
    "# Find the array-normal distribution\n",
    "t_tools = array3()\n",
    "coef = 0.999\n",
    "var = 1\n",
    "pow_ = 1000\n",
    "I = t_tools.shape(tensor_data[0])\n",
    "# M_, Cov_, A_ = t_tools.anormal(tensor_data, coef=0.9, var=1, pow_ = 1, constraint=True, normalised=False, \n",
    "#                 for_mix_model=False,gamma_k=None)\n",
    "M_mix, Cov_mix, p_mix = t_tools.anormal_mix(tensor_data,2,coef, var,pow_, constraint=True) \n",
    "\n",
    "\n",
    "\n"
   ]
  },
  {
   "cell_type": "code",
   "execution_count": 3,
   "metadata": {},
   "outputs": [
    {
     "name": "stdout",
     "output_type": "stream",
     "text": [
      "[0.4, 0.6]\n"
     ]
    }
   ],
   "source": [
    "print(p_mix)\n"
   ]
  },
  {
   "cell_type": "code",
   "execution_count": null,
   "metadata": {},
   "outputs": [],
   "source": []
  },
  {
   "cell_type": "code",
   "execution_count": null,
   "metadata": {},
   "outputs": [],
   "source": []
  },
  {
   "cell_type": "code",
   "execution_count": null,
   "metadata": {},
   "outputs": [],
   "source": []
  }
 ],
 "metadata": {
  "kernelspec": {
   "display_name": "Python 3",
   "language": "python",
   "name": "python3"
  },
  "language_info": {
   "codemirror_mode": {
    "name": "ipython",
    "version": 3
   },
   "file_extension": ".py",
   "mimetype": "text/x-python",
   "name": "python",
   "nbconvert_exporter": "python",
   "pygments_lexer": "ipython3",
   "version": "3.7.3"
  }
 },
 "nbformat": 4,
 "nbformat_minor": 2
}
