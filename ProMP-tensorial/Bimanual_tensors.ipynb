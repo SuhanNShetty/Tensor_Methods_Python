{
 "cells": [
  {
   "cell_type": "markdown",
   "metadata": {},
   "source": [
    "Author: suhan.n.shetty@gmail.com | Date: 9th Sept 2019\n",
    "\n",
    "This is an implementation of tensor methods applied to bimanual coordination\n",
    "This proposes tensor methods as an alternative to the techniques used in the following paper:\n",
    "\"Learning bimanual end-effector poses from demonstrations using\n",
    "task-parameterized dynamical systems\"\n",
    "http://publications.idiap.ch/downloads/papers/2015/Silverio_IROS_2015.pdf"
   ]
  },
  {
   "cell_type": "code",
   "execution_count": 1,
   "metadata": {},
   "outputs": [],
   "source": [
    "import scipy.io\n",
    "import numpy as np\n",
    "from mat4py import loadmat\n",
    "import pdb\n",
    "from tensor_tools import array3"
   ]
  },
  {
   "cell_type": "code",
   "execution_count": 2,
   "metadata": {},
   "outputs": [],
   "source": [
    "# Demonstration data\n",
    "data_path = './data/Bimanual_demos/demo_allSweep_Seg.mat'\n",
    "data = loadmat(data_path)\n",
    "demos = data[\"s\"][\"d\"]\n",
    "\n",
    "rob1_idx = [2,3,4,8,9,10,11] # robot-1 state index\n",
    "rob2_idx = [5,6,7,12,13,14,15]\n",
    "p = 7 # Number of states\n",
    "q = 2 # Number of subjects/robots\n",
    "r = 258 # Number of time steps\n",
    "#Import the data into tensor structure\n",
    "N = 5\n",
    "tensor_data = [np.empty([r,p,q])]*5 #\n",
    "for k in range(5): # iterate over the 5 demonstrations\n",
    "    tmp  = np.empty([r,p,q])\n",
    "    for t in range(258):\n",
    "        tmp[t,:,0]=np.array([demos[k][t][idx] for idx in rob1_idx])\n",
    "        tmp[t,:,1]=np.array([demos[k][t][idx] for idx in rob2_idx]) \n",
    "        tmp_ = tmp[:,[0,1,2],:]\n",
    "    \n",
    "    tensor_data[k] = tmp_ #scale the data by 100sualization b\n",
    "    \n",
    "        "
   ]
  },
  {
   "cell_type": "code",
   "execution_count": 3,
   "metadata": {},
   "outputs": [],
   "source": [
    "# # Generate artificial data\n",
    "# N = 10\n",
    "# #tensor_data = [np.random.randint(100)*np.random.randn(r,p,q) for j in range( N)]\n",
    "# tensor_data = [np.empty([r,p,q])]*N\n",
    "# for k in range(N): # iterate over the N demonstrations\n",
    "#     tmp  = np.empty([r,p,q])\n",
    "#     xyz = np.array([1*np.random.randn() for j in range(p)])\n",
    "#     sig = 140\n",
    "#     sc = np.random.randint(10)\n",
    "#     center = np.random.randint(200,300)\n",
    "#     for t in range(258):\n",
    "#         tmp[t,:,0]= xyz  #np.array([demos[k][t][idx] for idx in rob1_idx])\n",
    "#         tmp[t,:,1]=xyz+1*np.exp(((t-center)**2)/(sig)**2) #np.random.randn() #np.array([demos[k][t][idx] for idx in rob2_idx]) \n",
    "#         tmp_ = tmp[:,[0,1,2],:]\n",
    "    \n",
    "#     tensor_data[k] = tmp_"
   ]
  },
  {
   "cell_type": "code",
   "execution_count": 4,
   "metadata": {},
   "outputs": [
    {
     "name": "stdout",
     "output_type": "stream",
     "text": [
      "MLE has converged in  7  steps\n",
      "EM step  1 \n",
      " err_cov  :  78.68636497513816 err_mean:  0.09211852414326306 err_pi:  0.0006332250410336915\n",
      "EM step  1 \n",
      " err_cov  :  0.0030362546191145365 err_mean:  0.5090087085641191 err_pi:  0.1993151967668898\n",
      "EM step  1 \n",
      " err_cov  :  6.068854419750771e-07 err_mean:  3.55759213044887e-05 err_pi:  5.1578192076462415e-05\n",
      "EM converged in steps:  2\n"
     ]
    }
   ],
   "source": [
    "# Find the array-normal distribution\n",
    "t_tools = array3()\n",
    "coef = 0.9\n",
    "var = 1\n",
    "pow_ = 10\n",
    "I = t_tools.shape(tensor_data[0])\n",
    "M, Cov, A = t_tools.anormal(tensor_data, coef, var, pow_, constraint=True, normalised=False, \n",
    "                for_mix_model=False,gamma_k=None)\n",
    "M_mix, Cov_mix, p_mix = t_tools.anormal_mix(tensor_data,2,coef, var,pow_, constraint=True) "
   ]
  },
  {
   "cell_type": "code",
   "execution_count": 5,
   "metadata": {},
   "outputs": [],
   "source": [
    "# Plotting tools\n",
    "from matplotlib import interactive\n",
    "interactive(True)\n",
    "# for interractive plots in jupyter-notebook\n",
    "%matplotlib widget\n",
    "from mpl_toolkits import mplot3d\n",
    "import matplotlib.pyplot as plt"
   ]
  },
  {
   "cell_type": "code",
   "execution_count": 6,
   "metadata": {},
   "outputs": [
    {
     "data": {
      "application/vnd.jupyter.widget-view+json": {
       "model_id": "7b9db5c6ef2c4bb28db1cdbf03dd336e",
       "version_major": 2,
       "version_minor": 0
      },
      "text/plain": [
       "FigureCanvasNbAgg()"
      ]
     },
     "metadata": {},
     "output_type": "display_data"
    }
   ],
   "source": [
    "fig = plt.figure()\n",
    "ax1 = fig.add_subplot(1, 2, 1, projection='3d')\n",
    "\n",
    "# Pick a random demo from the data\n",
    "k = int(np.random.randint(5,size=1))\n",
    "X = tensor_data[k]\n",
    "\n",
    "# Robot-2 trajectory from the data given robot-1 trajectory\n",
    "xline = X[:,0,1]\n",
    "yline = X[:,1,1]\n",
    "zline = X[:,2,1] \n",
    "ax1.plot3D(xline, yline, zline, 'green')\n",
    "ax1.title.set_text(\"Robot-2 Data Trajectory \")\n",
    "ax2 = fig.add_subplot(1, 2, 2, projection='3d')\n",
    "ax2.title.set_text(\"Robot-2 Estimated Trajectory\")\n",
    "# Robot 2 trajectory from the conditioning the array-normal\n",
    "Ia = [0]\n",
    "Xa = X[:,:,0]\n",
    "Xa = Xa[:,:,np.newaxis]\n",
    "(M_, Cov_,_,_) = t_tools.anormal_condition(M,Cov,[0],Xa, slice_=1)\n",
    "#Xc = t_tools.anormal_sampling(M_mix_o,Cov_mix_o)\n",
    "Xc = M_[:,:,:]#t_tools.anormal_mix_sampling(M_mix_o,Cov_mix_o, p_mix_o)\n",
    "xline = Xc[:,0,0]\n",
    "yline = Xc[:,1,0]\n",
    "zline = Xc[:,2,0]\n",
    "ax2.plot3D(xline, yline, zline, 'red')\n",
    "plt.show()\n"
   ]
  },
  {
   "cell_type": "code",
   "execution_count": 7,
   "metadata": {},
   "outputs": [],
   "source": [
    "# # Find the array-normal distribution\n",
    "# t_tools = array3()\n",
    "# coef = 0.9\n",
    "# var = 0.001\n",
    "# pow_ = 1\n",
    "# #(M, Cov, A) = t_tools.anormal_hoff(tensor_data,coef, var,pow_, constraint=False) \n",
    "# # M, Cov, A = t_tools.anormal(tensor_data, coef=0.9, var=1, pow_ = 1, constraint=True, normalised=False, \n",
    "# #                 for_mix_model=False,gamma_k=None)\n",
    "# #pdb.set_trace()\n",
    "# M_mix, Cov_mix, pi_mix = t_tools.anormal_mix(tensor_data,1,coef,var,pow_,constraint=True) \n",
    "# #print(coef**pow_)\n",
    "# #print(t_tools.kron(Cov))\n"
   ]
  },
  {
   "cell_type": "code",
   "execution_count": 8,
   "metadata": {},
   "outputs": [
    {
     "data": {
      "application/vnd.jupyter.widget-view+json": {
       "model_id": "a4a5b2f743714b1b9c42f8b116634f8d",
       "version_major": 2,
       "version_minor": 0
      },
      "text/plain": [
       "FigureCanvasNbAgg()"
      ]
     },
     "metadata": {},
     "output_type": "display_data"
    }
   ],
   "source": [
    "# Test sampling\n",
    "\n",
    "#Robot 1 trajectory from the data\n",
    "fig = plt.figure()\n",
    "ax1 = fig.add_subplot(3, 1, 1)\n",
    "ax2 = fig.add_subplot(3, 1, 2)\n",
    "ax3 = fig.add_subplot(3, 1, 3)\n",
    "\n",
    "t = np.arange(258)\n",
    "\n",
    "#plot robot-1 demo traj\n",
    "for j in range(N):\n",
    "    X = tensor_data[j]\n",
    "    xt = X[:,0,0]\n",
    "    yt = X[:,1,0]\n",
    "    zt = X[:,2,0]    \n",
    "    ax1.plot(t,xt,'green')\n",
    "    ax2.plot(t,yt,'blue')\n",
    "    ax3.plot(t,zt,'red')\n",
    "\n",
    "\n",
    "for j in range(5):\n",
    "    Xc = t_tools.anormal_sampling(M,Cov)\n",
    "    #Xc = t_tools.anormal_mix_sampling(M_mix,Cov_mix,p_mix)\n",
    "    xt = Xc[:,0,0]\n",
    "    yt = Xc[:,1,0]\n",
    "    zt = Xc[:,2,0]    \n",
    "    ax1.plot(t,xt,'grey')\n",
    "    ax2.plot(t,yt,'grey')\n",
    "    ax3.plot(t,zt,'grey')\n",
    "\n",
    "# plot mean of the robo-1 traj\n",
    "#M = sum([p_mix[j]*M_mix[j] for j in range(K)])\n",
    "\n",
    "ax1.plot(t,M[:,0,0],'black',linewidth=1)\n",
    "ax2.plot(t,M[:,1,0],'black')\n",
    "ax3.plot(t,M[:,2,0],'black')\n",
    "   \n",
    "ax3.set_ylabel(\"z\")\n",
    "ax2.set_ylabel(\"y\")\n",
    "ax1.set_ylabel(\"x\")\n",
    "ax1.set_xlabel(\"t\")\n",
    "ax1.title.set_text(\"Trajectory Sampling. Colored traj: Demo, Grey Traj: Sample\")\n",
    "plt.show()\n"
   ]
  },
  {
   "cell_type": "code",
   "execution_count": 9,
   "metadata": {},
   "outputs": [
    {
     "data": {
      "application/vnd.jupyter.widget-view+json": {
       "model_id": "351adf668c204fbf83eadce0476703c4",
       "version_major": 2,
       "version_minor": 0
      },
      "text/plain": [
       "FigureCanvasNbAgg()"
      ]
     },
     "metadata": {},
     "output_type": "display_data"
    }
   ],
   "source": [
    "fig = plt.figure()\n",
    "ax1 = fig.add_subplot(1, 2, 1, projection='3d')\n",
    "\n",
    "# Pick a random demo from the data\n",
    "k = int(np.random.randint(5,size=1))\n",
    "X = tensor_data[k]\n",
    "\n",
    "# Robot-2 trajectory from the data given robot-1 trajectory\n",
    "xline = X[:,0,1]\n",
    "yline = X[:,1,1]\n",
    "zline = X[:,2,1] \n",
    "ax1.plot3D(xline, yline, zline, 'green')\n",
    "ax1.title.set_text(\"Robot-2 Data Trajectory\")\n",
    "ax2 = fig.add_subplot(1, 2, 2, projection='3d')\n",
    "ax2.title.set_text(\"Robot-2 Estimated Trajectory\")\n",
    "K = len(p_mix)\n",
    "# Robot 2 trajectory from the conditioning the array-normal\n",
    "Ia = [0]\n",
    "Xa = X[:,:,0]\n",
    "Xa = Xa[:,:,np.newaxis]\n",
    "#(M_, Cov_) = t_tools.anormal_condition(M,Cov,[0],Xa, slice_=1)\n",
    "#Xc = t_tools.anormal_sampling(M_mix_o,Cov_mix_o)\n",
    "(p_mix_o,M_mix_o,Cov_mix_o) = t_tools.anormal_mix_condition(p_mix,M_mix,Cov_mix,Ia,Xa,slice_=1)\n",
    "M_o = sum([p_mix_o[j]*M_mix_o[j] for j in range(K)])\n",
    "Xc = M_o[:,:,:]#t_tools.anormal_mix_sampling(M_mix_o,Cov_mix_o, p_mix_o)\n",
    "xline = Xc[:,0,0]\n",
    "yline = Xc[:,1,0]\n",
    "zline = Xc[:,2,0]\n",
    "ax2.plot3D(xline, yline, zline, 'red')\n",
    "plt.show()\n",
    "\n"
   ]
  },
  {
   "cell_type": "code",
   "execution_count": 14,
   "metadata": {},
   "outputs": [
    {
     "data": {
      "application/vnd.jupyter.widget-view+json": {
       "model_id": "46bcdbdb40bd4151ae3541a7e16fcc10",
       "version_major": 2,
       "version_minor": 0
      },
      "text/plain": [
       "FigureCanvasNbAgg()"
      ]
     },
     "metadata": {},
     "output_type": "display_data"
    },
    {
     "data": {
      "text/plain": [
       "Text(0.5, 0, 't')"
      ]
     },
     "execution_count": 14,
     "metadata": {},
     "output_type": "execute_result"
    }
   ],
   "source": [
    "# Test conditioning: Robot-2 Trajectories given robot-1 trajectory\n",
    "\n",
    "fig = plt.figure()\n",
    "ax1 = fig.add_subplot(3, 1, 1)\n",
    "ax2 = fig.add_subplot(3, 1, 2)\n",
    "ax3 = fig.add_subplot(3, 1, 3)\n",
    "\n",
    "\n",
    "# Robot trajectory from the data (perturbed)\n",
    "X = tensor_data[1]\n",
    "\n",
    "# Robot-2 for the given robot-1 taken from data\n",
    "t = np.arange(258)  \n",
    "\n",
    "#plot all robot-2 trajectories\n",
    "for j in range(N):\n",
    "    X = tensor_data[j]\n",
    "    xt = X[:,0,1]\n",
    "    yt = X[:,1,1]\n",
    "    zt= X[:,2,1]\n",
    "    ax1.plot(t,xt,'green')\n",
    "    ax2.plot(t,yt,'blue')\n",
    "    ax3.plot(t,zt,'red')\n",
    "\n",
    "K = len(p_mix)\n",
    "M = sum([p_mix[k]*M_mix[k] for k in range(K)])\n",
    "# plot mean of the robo-1 traj\n",
    "ax1.plot(t,M[:,0,1],'black')\n",
    "ax2.plot(t,M[:,1,1],'black')\n",
    "ax3.plot(t,M[:,2,1],'black')\n",
    "# Sample trajectories for robot-2\n",
    "for j in range(2):\n",
    "    Xc = t_tools.anormal_mix_sampling(M_mix,Cov_mix, p_mix)\n",
    "    #Xc = t_tools.anormal_sampling(M,Cov)\n",
    "    xt = Xc[:,0,1]\n",
    "    yt = Xc[:,1,1]\n",
    "    zt = Xc[:,2,1]    \n",
    "#     ax1.plot(t,xt,'grey')\n",
    "#     ax2.plot(t,yt,'grey')\n",
    "#     ax3.plot(t,zt,'grey')\n",
    "#plot mean of the robo-1 traj\n",
    "ax1.plot(t,M[:,0,1],'black')\n",
    "ax2.plot(t,M[:,1,1],'black')\n",
    "ax3.plot(t,M[:,2,1],'black')\n",
    "ax1.title.set_text(\"Trajectory Sampling. Colored traj: Demo, Grey Traj: Sample\")\n",
    "ax3.set_ylabel(\"z\")\n",
    "ax2.set_ylabel(\"y\")\n",
    "ax1.set_ylabel(\"x\")\n",
    "ax1.set_xlabel(\"t\")\n"
   ]
  },
  {
   "cell_type": "code",
   "execution_count": 11,
   "metadata": {},
   "outputs": [],
   "source": [
    "def get_xyz(X,k):\n",
    "    x = X[:,0,k-1]\n",
    "    y = X[:,1,k-1]\n",
    "    z = X[:,2,k-1]\n",
    "    return (x,y,z)"
   ]
  },
  {
   "cell_type": "code",
   "execution_count": 12,
   "metadata": {},
   "outputs": [
    {
     "data": {
      "application/vnd.jupyter.widget-view+json": {
       "model_id": "4478e8961ed24c80899615f5855b8288",
       "version_major": 2,
       "version_minor": 0
      },
      "text/plain": [
       "FigureCanvasNbAgg()"
      ]
     },
     "metadata": {},
     "output_type": "display_data"
    },
    {
     "name": "stdout",
     "output_type": "stream",
     "text": [
      "(258, 3, 1)\n"
     ]
    },
    {
     "data": {
      "text/plain": [
       "Text(0.5, 0, 't')"
      ]
     },
     "execution_count": 12,
     "metadata": {},
     "output_type": "execute_result"
    }
   ],
   "source": [
    "# Test conditioning: Robot-2 Trajectories given robot-1 trajectory\n",
    "\n",
    "fig = plt.figure()\n",
    "ax1 = fig.add_subplot(3, 1, 1)\n",
    "ax2 = fig.add_subplot(3, 1, 2)\n",
    "ax3 = fig.add_subplot(3, 1, 3)\n",
    "\n",
    "color_d = [\"red\", \"green\"]\n",
    "color_t = [\"green\", \"green\", \"blue\", \"blue\",\"cyan\", \"red\"]\n",
    "t = np.arange(258)\n",
    "# Robot trajectory from the data (perturbed)\n",
    "for k  in range(1):  \n",
    "    X = tensor_data[3]\n",
    "    (xt10,yt10,zt10) = get_xyz(X,1)\n",
    "    (xt20,yt20,zt20) = get_xyz(X,2)\n",
    "    # Plot undisturbed traj\n",
    "    ax1.plot(t,xt10,color_t[k])\n",
    "    ax2.plot(t,yt10,color_t[k])\n",
    "    ax3.plot(t,zt10,color_t[k])\n",
    "    ax1.plot(t,xt20,color_t[k+1])\n",
    "    ax2.plot(t,yt20,color_t[k+1])\n",
    "    ax3.plot(t,zt20,color_t[k+1])\n",
    "    \n",
    "    # Disturb the traj\n",
    "    Y = 1.0*X\n",
    "    Y[:,:,0] = Y[:,:,0] + 0.5*Y[:,:,0]\n",
    "    (xt11,yt11,zt11) = get_xyz(Y,1)\n",
    "    ax1.plot(t,xt11,color_t[k+2])\n",
    "    ax2.plot(t,yt11,color_t[k+2])\n",
    "    ax3.plot(t,zt11,color_t[k+2])\n",
    "   \n",
    "    \n",
    "    #Robot 2 trajectory from the conditioning\n",
    "    Ia = [0]\n",
    "    Xa = Y[:,:,0] # Robot1 data\n",
    "    Xa = Xa[:,:,np.newaxis]\n",
    "    (M_o, Cov_o,_,_) = t_tools.anormal_condition(M,Cov,Ia,Xa,slice_=1) # Distribution of robo2\n",
    "    \n",
    "    \n",
    "    # Sample trajectories of robot2\n",
    "    for j in range(1):\n",
    "        Xc = t_tools.anormal_sampling(M_o,Cov_o)\n",
    "        Xc = M_  \n",
    "        print(Xc.shape)\n",
    "        xt_ = Xc[:,0,0]\n",
    "        yt_ = Xc[:,1,0]\n",
    "        zt_ = Xc[:,2,0]\n",
    "        ax1.plot(t,xt_,color_t[k+3])\n",
    "        ax2.plot(t,yt_,color_t[k+3])\n",
    "        ax3.plot(t,zt_,color_t[k+3])\n",
    "        \n",
    "ax1.title.set_text(\"Trajectory Sampling. Colored traj: Demo, Grey Traj: Sample\")\n",
    "ax3.set_ylabel(\"z\")\n",
    "ax2.set_ylabel(\"y\")\n",
    "ax1.set_ylabel(\"x\")\n",
    "ax1.set_xlabel(\"t\")"
   ]
  },
  {
   "cell_type": "code",
   "execution_count": 13,
   "metadata": {},
   "outputs": [
    {
     "data": {
      "application/vnd.jupyter.widget-view+json": {
       "model_id": "9f01e9ddbdeb442b924194f8e90039cf",
       "version_major": 2,
       "version_minor": 0
      },
      "text/plain": [
       "FigureCanvasNbAgg()"
      ]
     },
     "metadata": {},
     "output_type": "display_data"
    },
    {
     "name": "stdout",
     "output_type": "stream",
     "text": [
      "The output covariance:\n",
      "\n",
      "[[[-0.04213275  0.        ]\n",
      "  [-0.00316266  0.        ]\n",
      "  [-0.05387528  0.        ]]\n",
      "\n",
      " [[-0.01469078  0.        ]\n",
      "  [-0.00110275  0.        ]\n",
      "  [-0.01878515  0.        ]]\n",
      "\n",
      " [[-0.00512236  0.        ]\n",
      "  [-0.00038451  0.        ]\n",
      "  [-0.00654998  0.        ]]\n",
      "\n",
      " ...\n",
      "\n",
      " [[ 0.          0.        ]\n",
      "  [ 0.          0.        ]\n",
      "  [ 0.          0.        ]]\n",
      "\n",
      " [[ 0.          0.        ]\n",
      "  [ 0.          0.        ]\n",
      "  [ 0.          0.        ]]\n",
      "\n",
      " [[ 0.          0.        ]\n",
      "  [ 0.          0.        ]\n",
      "  [ 0.          0.        ]]] \n",
      " \n",
      "\n"
     ]
    }
   ],
   "source": [
    "# Test conditioning: \n",
    "\n",
    "fig = plt.figure()\n",
    "ax1 = fig.add_subplot(3, 1, 1)#x, robot-1 and 2\n",
    "ax2 = fig.add_subplot(3, 1, 2)#y robot-1 and 2\n",
    "ax3 = fig.add_subplot(3, 1, 3)#z\n",
    "\n",
    "\n",
    "# Robot 1 trajectory from the data\n",
    "X = tensor_data[4]\n",
    "\n",
    "# Robot-1 and 2 trajectory \n",
    "t = np.arange(258) \n",
    "T0 = 50\n",
    "t0 = np.arange(T0)\n",
    "dt = 10+np.arange(40)\n",
    "\n",
    "# Add noise/disturbance to the trajectory of robo-1 for a short duration dt\n",
    "Xa_noisy = X[t0,:,:]\n",
    "Xdt =  X[dt,:,0] # chunk where noise/disturbance occurs\n",
    "Xa_noisy[dt,:,0] = Xa_noisy[dt,:,0]- 0.5*Xa_noisy[dt,:,0]\n",
    "#Xa_noisy[dt,:,1] = Xa_noisy[dt,:,1]+ 0.0*Xa_noisy[dt,:,1]\n",
    "#Predict the future trajectory\n",
    "\n",
    "#Without Noise:\n",
    "Ia = np.arange(50)\n",
    "Xa = X[Ia,:,:] #Initial traj of the robos\n",
    "(M_, Cov_,_,_) = t_tools.anormal_condition(M,Cov,list(Ia),Xa,slice_=3) #distrn of future traj given past traj\n",
    "Xb = t_tools.anormal_sampling(M_,Cov_) #sample future traj\n",
    "Xab = X.copy()\n",
    "a = 50 + np.arange(208)\n",
    "Xab[a,:,:] = Xb\n",
    "\n",
    "#With Noise:\n",
    "(M_noisy, Cov_noisy,_,_) = t_tools.anormal_condition(M,Cov,list(Ia),Xa_noisy,slice_=3)\n",
    "Xb_noisy = M_noisy #t_tools.anormal_sampling(M_noisy,Cov_noisy)\n",
    "Xab_noisy = X.copy()\n",
    "Xab_noisy[t0,:,:] = Xa_noisy\n",
    "Xab_noisy[a,:,:] = Xb_noisy\n",
    "\n",
    "\n",
    "# Collect and Plot the estimation \n",
    "(x1,y1,z1) = get_xyz(Xab,1)\n",
    "(x2,y2,z2) = get_xyz(Xab,2)\n",
    "(x1_n,y1_n,z1_n) = get_xyz(Xab_noisy,1)\n",
    "(x2_n,y2_n,z2_n) = get_xyz(Xab_noisy,2)\n",
    "\n",
    "ax1.plot(t,x1,'blue') #robot-1 x without noise\n",
    "ax2.plot(t,y1,'blue')#robot-1 y\n",
    "ax3.plot(t,z1,'blue')# robot-1 z\n",
    "\n",
    "ax1.plot(t,x2,'green') # robot-2 x without noise\n",
    "ax2.plot(t,y2,'green')\n",
    "ax3.plot(t,z2,'green')\n",
    "\n",
    "ax1.plot(t,x1_n,'red') # robot-1 with noise\n",
    "ax2.plot(t,y1_n,'red')\n",
    "ax3.plot(t,z1_n,'red')\n",
    "\n",
    "\n",
    "ax1.plot(t,x2_n,'orange')\n",
    "ax2.plot(t,y2_n,'orange')\n",
    "ax3.plot(t,z2_n,'orange')\n",
    "\n",
    "plt.show()\n",
    "\n",
    "print(\"The output covariance:\\n\")\n",
    "print(M_-M_noisy, \"\\n \\n\")\n",
    "\n"
   ]
  },
  {
   "cell_type": "code",
   "execution_count": null,
   "metadata": {},
   "outputs": [],
   "source": []
  }
 ],
 "metadata": {
  "kernelspec": {
   "display_name": "Python 3",
   "language": "python",
   "name": "python3"
  },
  "language_info": {
   "codemirror_mode": {
    "name": "ipython",
    "version": 3
   },
   "file_extension": ".py",
   "mimetype": "text/x-python",
   "name": "python",
   "nbconvert_exporter": "python",
   "pygments_lexer": "ipython3",
   "version": "3.7.3"
  }
 },
 "nbformat": 4,
 "nbformat_minor": 2
}
